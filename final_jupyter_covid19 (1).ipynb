{
 "cells": [
  {
   "cell_type": "markdown",
   "metadata": {},
   "source": [
    "<a href=\"https://cognitiveclass.ai/?utm_medium=Exinfluencer&utm_source=Exinfluencer&utm_content=000026UJ&utm_term=10006555&utm_id=NA-SkillsNetwork-Channel-SkillsNetworkCoursesIBMDeveloperSkillsNetworkRP0101ENCoursera23911160-2022-01-01\">\n",
    "    <img src=\"https://cf-courses-data.s3.us.cloud-object-storage.appdomain.cloud/IBMDeveloperSkillsNetwork-RP0101EN-Coursera/v2/M1_R_Basics/images/IDSNlogo.png\" width=\"200\" align=\"center\">\n",
    "</a>\n"
   ]
  },
  {
   "cell_type": "markdown",
   "metadata": {},
   "source": [
    "<h1>Analysis of Global COVID-19 Pandemic Data</h1>\n",
    "\n",
    "Estimated time needed: **90** minutes\n"
   ]
  },
  {
   "cell_type": "markdown",
   "metadata": {},
   "source": [
    "## Overview:\n",
    "\n",
    "There are 10 tasks in this final project. All tasks will be graded by your peers who are also completing this assignment within the same session.\n",
    "\n",
    "You need to submit the following the screenshot for the code and output for each task for review.\n",
    "\n",
    "If you need to refresh your memories about specific coding details, you may refer to previous hands-on labs for code examples.\n"
   ]
  },
  {
   "cell_type": "code",
   "execution_count": 45,
   "metadata": {},
   "outputs": [],
   "source": [
    "require(\"httr\")\n",
    "require(\"rvest\")\n",
    "\n",
    "library(httr)\n",
    "library(rvest)\n"
   ]
  },
  {
   "cell_type": "markdown",
   "metadata": {},
   "source": [
    "Note: if you can import above libraries, please use install.packages() to install them first.\n"
   ]
  },
  {
   "cell_type": "markdown",
   "metadata": {},
   "source": [
    "## TASK 1: Get a `COVID-19 pandemic` Wiki page using HTTP request\n"
   ]
  },
  {
   "cell_type": "markdown",
   "metadata": {},
   "source": [
    "First, let's write a function to use HTTP request to get a public COVID-19 Wiki page.\n",
    "\n",
    "Before you write the function, you can open this public page from this\n",
    "\n",
    "URL [https://en.wikipedia.org/w/index.php?title=Template\\:COVID-19\\_testing_by_country](https://en.wikipedia.org/w/index.php?utm_medium=Exinfluencer&utm_source=Exinfluencer&utm_content=000026UJ&utm_term=10006555&utm_id=NA-SkillsNetwork-Channel-SkillsNetworkCoursesIBMDeveloperSkillsNetworkRP0101ENCoursera23911160-2022-01-01&title=Template%3ACOVID-19\\_testing_by_country) using a web browser.\n",
    "\n",
    "The goal of task 1 is to get the html page using HTTP request (`httr` library)\n"
   ]
  },
  {
   "cell_type": "code",
   "execution_count": 39,
   "metadata": {
    "tags": []
   },
   "outputs": [],
   "source": [
    "\n",
    "get_wiki_covid19_page <- function() {\n",
    "  wiki_base_url <- \"https://en.wikipedia.org/w/index.php\"\n",
    "    query_paras<-list(title='Template:COVID-19_testing_by_country')\n",
    "    response<-GET(wiki_base_url,query=query_paras)\n",
    "    return(response)\n",
    "  # You will need to create a List which has an element called `title` to specify which page you want to get from Wiki\n",
    "  # in our case, it will be `Template:COVID-19_testing_by_country`\n",
    " \n",
    "  # - Use the `GET` function in httr library with a `url` argument and a `query` arugment to get a HTTP response\n",
    "    \n",
    "  # Use the `return` function to return the response\n",
    "\n",
    "}"
   ]
  },
  {
   "cell_type": "markdown",
   "metadata": {},
   "source": [
    "Call the `get_wiki_covid19_page` function to get a http response with the target html page\n"
   ]
  },
  {
   "cell_type": "code",
   "execution_count": 46,
   "metadata": {},
   "outputs": [
    {
     "data": {
      "text/plain": [
       "Response [https://en.wikipedia.org/w/index.php?title=Template%3ACOVID-19_testing_by_country]\n",
       "  Date: 2022-08-24 04:15\n",
       "  Status: 200\n",
       "  Content-Type: text/html; charset=UTF-8\n",
       "  Size: 416 kB\n",
       "<!DOCTYPE html>\n",
       "<html class=\"client-nojs\" lang=\"en\" dir=\"ltr\">\n",
       "<head>\n",
       "<meta charset=\"UTF-8\"/>\n",
       "<title>Template:COVID-19 testing by country - Wikipedia</title>\n",
       "<script>document.documentElement.className=\"client-js\";RLCONF={\"wgBreakFrames...\n",
       "\"CS1 German-language sources (de)\",\"CS1 Azerbaijani-language sources (az)\",\"C...\n",
       "\"CS1 uses Japanese-language script (ja)\",\"CS1 Japanese-language sources (ja)\"...\n",
       "\"COVID-19 pandemic templates\"],\"wgPageContentLanguage\":\"en\",\"wgPageContentMod...\n",
       "\"wgEditSubmitButtonLabelPublish\":true,\"wgCentralAuthMobileDomain\":false,\"wgUL...\n",
       "..."
      ]
     },
     "metadata": {},
     "output_type": "display_data"
    }
   ],
   "source": [
    "# Call the get_wiki_covid19_page function and print the response\n",
    "response=get_wiki_covid19_page()#naming the function\n",
    "response#need to transfer it from a function to the response, so that it shows up when you print"
   ]
  },
  {
   "cell_type": "markdown",
   "metadata": {},
   "source": [
    "## TASK 2: Extract COVID-19 testing data table from the wiki HTML page\n"
   ]
  },
  {
   "cell_type": "markdown",
   "metadata": {},
   "source": [
    "On the COVID-19 testing wiki page, you should see a data table `<table>` node contains COVID-19 testing data by country on the page:\n",
    "\n",
    "<a href=\"https://cognitiveclass.ai/?utm_medium=Exinfluencer&utm_source=Exinfluencer&utm_content=000026UJ&utm_term=10006555&utm_id=NA-SkillsNetwork-Channel-SkillsNetworkCoursesIBMDeveloperSkillsNetworkRP0101ENCoursera23911160-2022-01-01\">\n",
    "    <img src=\"https://cf-courses-data.s3.us.cloud-object-storage.appdomain.cloud/IBMDeveloperSkillsNetwork-RP0101EN-Coursera/v2/M5_Final/images/covid-19-by-country.png\" width=\"400\" align=\"center\">\n",
    "</a>\n",
    "\n",
    "Note the numbers you actually see on your page may be different from above because it is still an on-going pandemic when creating this notebook.\n",
    "\n",
    "The goal of task 2 is to extract above data table and convert it into a data frame\n"
   ]
  },
  {
   "cell_type": "markdown",
   "metadata": {},
   "source": [
    "Now use the `read_html` function in rvest library to get the root html node from response\n"
   ]
  },
  {
   "cell_type": "code",
   "execution_count": 78,
   "metadata": {
    "tags": []
   },
   "outputs": [
    {
     "data": {
      "text/plain": [
       "{html_document}\n",
       "<html class=\"client-nojs\" lang=\"en\" dir=\"ltr\">\n",
       "[1] <head>\\n<meta http-equiv=\"Content-Type\" content=\"text/html; charset=UTF-8 ...\n",
       "[2] <body class=\"mediawiki ltr sitedir-ltr mw-hide-empty-elt ns-10 ns-subject ..."
      ]
     },
     "metadata": {},
     "output_type": "display_data"
    }
   ],
   "source": [
    "# Get the root html node from the http response in task 1 \n",
    "root_node<-read_html(response)\n",
    "root_node"
   ]
  },
  {
   "cell_type": "markdown",
   "metadata": {},
   "source": [
    "Get the first table in the HTML root node using `html_node` function\n"
   ]
  },
  {
   "cell_type": "code",
   "execution_count": 77,
   "metadata": {},
   "outputs": [
    {
     "data": {
      "text/plain": [
       "{html_node}\n",
       "<table class=\"box-Update plainlinks ombox ombox-content ambox-Update\" role=\"presentation\">\n",
       "[1] <tbody><tr>\\n<td class=\"mbox-image\"><img alt=\"Ambox current red Asia Aust ..."
      ]
     },
     "metadata": {},
     "output_type": "display_data"
    }
   ],
   "source": [
    "# Get the table node from the root html node\n",
    "table_node<-html_node(root_node,\"table\")\n",
    "table_node"
   ]
  },
  {
   "cell_type": "markdown",
   "metadata": {},
   "source": [
    "Read the table node as a data frame using `html_table` function\n"
   ]
  },
  {
   "cell_type": "code",
   "execution_count": 80,
   "metadata": {},
   "outputs": [
    {
     "data": {
      "text/html": [
       "<table>\n",
       "<caption>A data.frame: 1 × 2</caption>\n",
       "<thead>\n",
       "\t<tr><th scope=col>X1</th><th scope=col>X2</th></tr>\n",
       "\t<tr><th scope=col>&lt;lgl&gt;</th><th scope=col>&lt;chr&gt;</th></tr>\n",
       "</thead>\n",
       "<tbody>\n",
       "\t<tr><td>NA</td><td>This template needs to be updated.  Please help update this template to reflect recent events or newly available information. Relevant discussion may be found on  the talk page.</td></tr>\n",
       "</tbody>\n",
       "</table>\n"
      ],
      "text/latex": [
       "A data.frame: 1 × 2\n",
       "\\begin{tabular}{ll}\n",
       " X1 & X2\\\\\n",
       " <lgl> & <chr>\\\\\n",
       "\\hline\n",
       "\t NA & This template needs to be updated.  Please help update this template to reflect recent events or newly available information. Relevant discussion may be found on  the talk page.\\\\\n",
       "\\end{tabular}\n"
      ],
      "text/markdown": [
       "\n",
       "A data.frame: 1 × 2\n",
       "\n",
       "| X1 &lt;lgl&gt; | X2 &lt;chr&gt; |\n",
       "|---|---|\n",
       "| NA | This template needs to be updated.  Please help update this template to reflect recent events or newly available information. Relevant discussion may be found on  the talk page. |\n",
       "\n"
      ],
      "text/plain": [
       "  X1\n",
       "1 NA\n",
       "  X2                                                                                                                                                                               \n",
       "1 This template needs to be updated.  Please help update this template to reflect recent events or newly available information. Relevant discussion may be found on  the talk page."
      ]
     },
     "metadata": {},
     "output_type": "display_data"
    }
   ],
   "source": [
    "# Read the table node and convert it into a data frame, and print the data frame for review\n",
    "wiki_table<-html_table(table_node)\n",
    "wiki_table"
   ]
  },
  {
   "cell_type": "markdown",
   "metadata": {},
   "source": [
    "## TASK 3: Pre-process and export the extracted data frame\n",
    "\n",
    "The goal of task 3 is to pre-process the extracted data frame from the previous step, and export it as a csv file\n"
   ]
  },
  {
   "cell_type": "markdown",
   "metadata": {},
   "source": [
    "Let's get a summary of the data frame\n"
   ]
  },
  {
   "cell_type": "code",
   "execution_count": null,
   "metadata": {},
   "outputs": [],
   "source": [
    "# Print the summary of the data frame"
   ]
  },
  {
   "cell_type": "markdown",
   "metadata": {},
   "source": [
    "As you can see from the summary, the columns names are little bit different to understand and some column data types are not correct. For example, the `Tested` column shows as `character`.\n",
    "\n",
    "As such, the data frame read from HTML table will need some pre-processing such as removing irrelvant columns, renaming columns, and convert columns into proper data types.\n"
   ]
  },
  {
   "cell_type": "markdown",
   "metadata": {},
   "source": [
    "We have prepared a pre-processing function for you to conver the data frame but you can also try to write one by yourself\n"
   ]
  },
  {
   "cell_type": "code",
   "execution_count": null,
   "metadata": {},
   "outputs": [],
   "source": [
    "preprocess_covid_data_frame <- function(data_frame) {\n",
    "    \n",
    "    shape <- dim(data_frame)\n",
    "\n",
    "    # Remove the World row\n",
    "    data_frame<-data_frame[!(data_frame$`Country or region`==\"World\"),]\n",
    "    # Remove the last row\n",
    "    data_frame <- data_frame[1:172, ]\n",
    "    \n",
    "    # We dont need the Units and Ref columns, so can be removed\n",
    "    data_frame[\"Ref.\"] <- NULL\n",
    "    data_frame[\"Units[b]\"] <- NULL\n",
    "    \n",
    "    # Renaming the columns\n",
    "    names(data_frame) <- c(\"country\", \"date\", \"tested\", \"confirmed\", \"confirmed.tested.ratio\", \"tested.population.ratio\", \"confirmed.population.ratio\")\n",
    "    \n",
    "    # Convert column data types\n",
    "    data_frame$country <- as.factor(data_frame$country)\n",
    "    data_frame$date <- as.factor(data_frame$date)\n",
    "    data_frame$tested <- as.numeric(gsub(\",\",\"\",data_frame$tested))\n",
    "    data_frame$confirmed <- as.numeric(gsub(\",\",\"\",data_frame$confirmed))\n",
    "    data_frame$'confirmed.tested.ratio' <- as.numeric(gsub(\",\",\"\",data_frame$`confirmed.tested.ratio`))\n",
    "    data_frame$'tested.population.ratio' <- as.numeric(gsub(\",\",\"\",data_frame$`tested.population.ratio`))\n",
    "    data_frame$'confirmed.population.ratio' <- as.numeric(gsub(\",\",\"\",data_frame$`confirmed.population.ratio`))\n",
    "    \n",
    "    return(data_frame)\n",
    "}\n",
    "\n"
   ]
  },
  {
   "cell_type": "markdown",
   "metadata": {},
   "source": [
    "Call the `preprocess_covid_data_frame` function\n"
   ]
  },
  {
   "cell_type": "code",
   "execution_count": null,
   "metadata": {},
   "outputs": [],
   "source": [
    "# call `preprocess_covid_data_frame` function and assign it to a new data frame"
   ]
  },
  {
   "cell_type": "markdown",
   "metadata": {},
   "source": [
    "Get the summary of the processed data frame again\n"
   ]
  },
  {
   "cell_type": "code",
   "execution_count": null,
   "metadata": {},
   "outputs": [],
   "source": [
    "# Print the summary of the processed data frame again"
   ]
  },
  {
   "cell_type": "markdown",
   "metadata": {},
   "source": [
    "After pre-processing, you can see the columns and columns names are simplified, and columns types are converted into correct types.\n"
   ]
  },
  {
   "cell_type": "markdown",
   "metadata": {},
   "source": [
    "The data frame has following columns:\n",
    "\n",
    "*   **country** - The name of the country\n",
    "*   **date** - Reported date\n",
    "*   **tested** - Total tested cases by the reported date\n",
    "*   **confirmed** - Total confirmed cases by the reported date\n",
    "*   **confirmed.tested.ratio** - The ratio of confirmed cases to the tested cases\n",
    "*   **tested.population.ratio** - The ratio of tested cases to the population of the country\n",
    "*   **confirmed.population.ratio** - The ratio of confirmed cases to the population of the country\n"
   ]
  },
  {
   "cell_type": "markdown",
   "metadata": {},
   "source": [
    "OK, we can call `write.csv()` function to save the csv file into a file.\n"
   ]
  },
  {
   "cell_type": "code",
   "execution_count": null,
   "metadata": {},
   "outputs": [],
   "source": [
    "# Export the data frame to a csv file"
   ]
  },
  {
   "cell_type": "markdown",
   "metadata": {},
   "source": [
    "Note for IBM Waston Studio, there is no traditional \"hard disk\" associated with a R workspace.\n",
    "\n",
    "Even if you call `write.csv()` method to save the data frame as a csv file, it won't be shown in IBM Cloud Object Storage asset UI automatically.\n",
    "\n",
    "However, you may still check if the `covid.csv` exists using following code snippet:\n"
   ]
  },
  {
   "cell_type": "code",
   "execution_count": null,
   "metadata": {},
   "outputs": [],
   "source": [
    "# Get working directory\n",
    "wd <- getwd()\n",
    "# Get exported \n",
    "file_path <- paste(wd, sep=\"\", \"/covid.csv\")\n",
    "# File path\n",
    "print(file_path)\n",
    "file.exists(file_path)"
   ]
  },
  {
   "cell_type": "markdown",
   "metadata": {},
   "source": [
    "**Optional Step**: If you have difficulties finishing above webscraping tasks, you may still continue with next tasks by downloading a provided csv file from here:\n"
   ]
  },
  {
   "cell_type": "code",
   "execution_count": null,
   "metadata": {},
   "outputs": [],
   "source": [
    "## Download a sample csv file\n",
    "# covid_csv_file <- download.file(\"https://cf-courses-data.s3.us.cloud-object-storage.appdomain.cloud/IBMDeveloperSkillsNetwork-RP0101EN-Coursera/v2/dataset/covid.csv\", destfile=\"covid.csv\")\n",
    "# covid_data_frame_csv <- read.csv(\"covid.csv\", header=TRUE, sep=\",\")"
   ]
  },
  {
   "cell_type": "markdown",
   "metadata": {},
   "source": [
    "## TASK 4: Get a subset of the extracted data frame\n",
    "\n",
    "The goal of task 4 is to get the 5th to 10th rows from the data frame with only `country` and `confirmed` columns selected\n"
   ]
  },
  {
   "cell_type": "code",
   "execution_count": null,
   "metadata": {},
   "outputs": [],
   "source": [
    "# Read covid_data_frame_csv from the csv file\n",
    "\n",
    "# Get the 5th to 10th rows, with two \"country\" \"confirmed\" columns\n"
   ]
  },
  {
   "cell_type": "markdown",
   "metadata": {},
   "source": [
    "## TASK 5: Calculate worldwide COVID testing positive ratio\n",
    "\n",
    "The goal of task 5 is to get the total confirmed and tested cases worldwide, and try to figure the overall positive ratio using `confirmed cases / tested cases`\n"
   ]
  },
  {
   "cell_type": "code",
   "execution_count": null,
   "metadata": {},
   "outputs": [],
   "source": [
    "# Get the total confirmed cases worldwide\n",
    "\n",
    "# Get the total tested cases worldwide\n",
    "\n",
    "# Get the positive ratio (confirmed / tested)\n"
   ]
  },
  {
   "cell_type": "markdown",
   "metadata": {},
   "source": [
    "## TASK 6: Get a country list which reported their testing data\n",
    "\n",
    "The goal of task 6 is to get a catalog or sorted list of countries who have reported their COVID-19 testing data\n"
   ]
  },
  {
   "cell_type": "code",
   "execution_count": null,
   "metadata": {},
   "outputs": [],
   "source": [
    "# Get the `country` column\n",
    "\n",
    "# Check its class (should be Factor)\n",
    "\n",
    "# Conver the country column into character so that you can easily sort them\n",
    "\n",
    "# Sort the countries AtoZ\n",
    "\n",
    "# Sort the countries ZtoA\n",
    "\n",
    "# Print the sorted ZtoA list\n"
   ]
  },
  {
   "cell_type": "markdown",
   "metadata": {},
   "source": [
    "## TASK 7: Identify countries names with a specific pattern\n",
    "\n",
    "The goal of task 7 is using a regular expression to find any countires start with `United`\n"
   ]
  },
  {
   "cell_type": "code",
   "execution_count": null,
   "metadata": {},
   "outputs": [],
   "source": [
    "# Use a regular expression `United.+` to find matches\n",
    "\n",
    "# Print the matched country names\n"
   ]
  },
  {
   "cell_type": "markdown",
   "metadata": {},
   "source": [
    "## TASK 8: Pick two countries you are interested, and then review their testing data\n",
    "\n",
    "The goal of task 8 is to compare the COVID-19 test data between two countires, you will need to select two rows from the dataframe, and select `country`, `confirmed`, `confirmed-population-ratio` columns\n"
   ]
  },
  {
   "cell_type": "code",
   "execution_count": null,
   "metadata": {},
   "outputs": [],
   "source": [
    "# Select a subset (should be only one row) of data frame based on a selected country name and columns\n",
    "\n",
    "\n",
    "# Select a subset (should be only one row) of data frame based on a selected country name and columns\n"
   ]
  },
  {
   "cell_type": "markdown",
   "metadata": {},
   "source": [
    "## TASK 9: Compare which one of the selected countries has a larger ratio of confirmed cases to population\n",
    "\n",
    "The goal of task 9 is to find out which country you have selected before has larger ratio of confirmed cases to population, which may indicate that country has higher COVID-19 infection risk\n"
   ]
  },
  {
   "cell_type": "code",
   "execution_count": null,
   "metadata": {},
   "outputs": [],
   "source": [
    "# Use if-else statement\n",
    "# if (check which confirmed.population value is greater) {\n",
    "#    print()\n",
    "# } else {\n",
    "#    print()\n",
    "# }\n"
   ]
  },
  {
   "cell_type": "markdown",
   "metadata": {},
   "source": [
    "## TASK 10: Find countries with confirmed to population ratio rate less than a threshold\n",
    "\n",
    "The goal of task 10 is to find out which countries have the confirmed to population ratio less than 1%, it may indicate the risk of those countries are relatively low\n"
   ]
  },
  {
   "cell_type": "code",
   "execution_count": null,
   "metadata": {},
   "outputs": [],
   "source": [
    "# Get a subset of any countries with `confirmed.population.ratio` less than the threshold\n"
   ]
  }
 ],
 "metadata": {
  "kernelspec": {
   "display_name": "R",
   "language": "R",
   "name": "conda-env-r-r"
  },
  "language_info": {
   "codemirror_mode": "r",
   "file_extension": ".r",
   "mimetype": "text/x-r-source",
   "name": "R",
   "pygments_lexer": "r",
   "version": "3.5.1"
  }
 },
 "nbformat": 4,
 "nbformat_minor": 4
}
